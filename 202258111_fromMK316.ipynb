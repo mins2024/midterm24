{
  "nbformat": 4,
  "nbformat_minor": 0,
  "metadata": {
    "colab": {
      "provenance": [],
      "include_colab_link": true
    },
    "kernelspec": {
      "name": "python3",
      "display_name": "Python 3"
    },
    "language_info": {
      "name": "python"
    }
  },
  "cells": [
    {
      "cell_type": "markdown",
      "metadata": {
        "id": "view-in-github",
        "colab_type": "text"
      },
      "source": [
        "<a href=\"https://colab.research.google.com/github/mins2024/midterm24/blob/main/202258111_fromMK316.ipynb\" target=\"_parent\"><img src=\"https://colab.research.google.com/assets/colab-badge.svg\" alt=\"Open In Colab\"/></a>"
      ]
    },
    {
      "cell_type": "markdown",
      "source": [
        "# Midterm: your name (ID here) <= 😍 This is what you were supposed to do."
      ],
      "metadata": {
        "id": "EBFD9vXS03Ca"
      }
    },
    {
      "cell_type": "markdown",
      "source": [
        "**Midterm24**:Seo min young(202258111) <= 😍This is not heading format."
      ],
      "metadata": {
        "id": "rw4umY_3xjHF"
      }
    },
    {
      "cell_type": "code",
      "source": [
        "#@markdown\n",
        "\n",
        "name = input(\"What is your name?\")\n",
        "\n",
        "print(\"*\"*30)\n",
        "print(f\"Welcom, {name}!\", \"\\n\\n\")"
      ],
      "metadata": {
        "colab": {
          "base_uri": "https://localhost:8080/"
        },
        "id": "ql_dNNURx2GP",
        "outputId": "74f68793-f510-43e4-8952-1b74244606bb",
        "cellView": "form"
      },
      "execution_count": null,
      "outputs": [
        {
          "output_type": "stream",
          "name": "stdout",
          "text": [
            "What is your name?Marry\n",
            "******************************\n",
            "Welcom, Marry! \n",
            "\n",
            "\n"
          ]
        }
      ]
    },
    {
      "cell_type": "code",
      "source": [
        "x = \"My name is\"\n",
        "y = \"your name\""
      ],
      "metadata": {
        "id": "122UXn8KyqVe"
      },
      "execution_count": null,
      "outputs": []
    },
    {
      "cell_type": "code",
      "source": [
        "print(x)\n",
        "print(y)"
      ],
      "metadata": {
        "colab": {
          "base_uri": "https://localhost:8080/"
        },
        "id": "_EQN6ALYz2ZA",
        "outputId": "e8f44f00-667c-40e0-d676-922e99c687f3"
      },
      "execution_count": null,
      "outputs": [
        {
          "output_type": "stream",
          "name": "stdout",
          "text": [
            "My name is\n",
            "your name\n"
          ]
        }
      ]
    },
    {
      "cell_type": "code",
      "source": [
        "y = \"minyoung.\""
      ],
      "metadata": {
        "id": "4eYUyJbN0K9J"
      },
      "execution_count": null,
      "outputs": []
    },
    {
      "cell_type": "code",
      "source": [
        "print (x)\n",
        "print (y)"
      ],
      "metadata": {
        "colab": {
          "base_uri": "https://localhost:8080/"
        },
        "id": "21wy3kYV0QVu",
        "outputId": "3526c998-9c46-4357-a75c-fd11617cf278"
      },
      "execution_count": null,
      "outputs": [
        {
          "output_type": "stream",
          "name": "stdout",
          "text": [
            "My name is\n",
            "minyoung.\n"
          ]
        }
      ]
    },
    {
      "cell_type": "markdown",
      "source": [
        "### 😍 The code above is not flexible to take any name. You were supposed to use input function, as shown below."
      ],
      "metadata": {
        "id": "5kySAvgk1c6e"
      }
    },
    {
      "cell_type": "code",
      "source": [
        "x = \"My name is\"\n",
        "y = input()\n",
        "print(x, y+\".\")"
      ],
      "metadata": {
        "id": "ZxGUnJJ11lmR",
        "outputId": "1d5bf7ac-c5c6-4c03-9b2f-9293f755363a",
        "colab": {
          "base_uri": "https://localhost:8080/"
        }
      },
      "execution_count": 3,
      "outputs": [
        {
          "output_type": "stream",
          "name": "stdout",
          "text": [
            "Minyoung\n",
            "My name is Minyoung.\n"
          ]
        }
      ]
    },
    {
      "cell_type": "markdown",
      "source": [
        "##Variable Question (😍 Good job!)"
      ],
      "metadata": {
        "id": "X3M4_9WP0xbP"
      }
    },
    {
      "cell_type": "code",
      "source": [
        "# Enter the provided text below.\n",
        "# 'Mary, 1998, Ohio; and John, 1999, Boston.'\n",
        "\n",
        "# Assigning variables using the input function.\n",
        "x = input(\"name: \")\n",
        "y = input(\"born in: \")\n",
        "z = input(\"hometown: \")\n",
        "\n",
        "# Displaying the gathered information.\n",
        "output_message = f\"Hello, my name is {x}. I was born in {y}, and I'm from {z}. Nice to meet you.\"\n",
        "print(output_message)"
      ],
      "metadata": {
        "colab": {
          "base_uri": "https://localhost:8080/"
        },
        "id": "mpPzolth1C8R",
        "outputId": "2ce93273-59fc-4594-e7e7-8e8fbb8995dc"
      },
      "execution_count": 4,
      "outputs": [
        {
          "output_type": "stream",
          "name": "stdout",
          "text": [
            "name: Mary\n",
            "born in: 1998\n",
            "hometown: Ohio\n",
            "Hello, my name is Mary. I was born in 1998, and I'm from Ohio. Nice to meet you.\n"
          ]
        }
      ]
    },
    {
      "cell_type": "markdown",
      "source": [
        "##Index Question"
      ],
      "metadata": {
        "id": "YklxGkem4H-5"
      }
    },
    {
      "cell_type": "code",
      "source": [
        "cardinal_number = \"2\" #@param = [\"1\",\"2\",\"3\",\"4\"]\n",
        "\n",
        "# Add one line of code below\n",
        "cardinal_number = int(cardinal_number)\n",
        "\n",
        "# Ordinal expression as a list\n",
        "\n",
        "words = [\"First\", \"Second\", \"Third\",\"Fourth\"]\n",
        "\n",
        "print(\"The ordinal expression:\", words[cardinal_number])"
      ],
      "metadata": {
        "colab": {
          "base_uri": "https://localhost:8080/"
        },
        "id": "O2iswauU5K-H",
        "outputId": "80b45e64-93fb-41cb-e922-acf44e07c746"
      },
      "execution_count": 5,
      "outputs": [
        {
          "output_type": "stream",
          "name": "stdout",
          "text": [
            "The ordinal expression: Third\n"
          ]
        }
      ]
    },
    {
      "cell_type": "markdown",
      "source": [
        "### 😍 The code above doesn't match the index to access to the variable words, which is a list. Try below (check and run the code below).\n",
        "\n",
        "```\n",
        "print(\"The ordinal expression:\", words[cardinal_number-1])\n",
        "```"
      ],
      "metadata": {
        "id": "x6Wq_hpk2Czx"
      }
    },
    {
      "cell_type": "code",
      "source": [
        "cardinal_number = \"2\" #@param = [\"1\",\"2\",\"3\",\"4\"]\n",
        "\n",
        "# Add one line of code below\n",
        "cardinal_number = int(cardinal_number)\n",
        "\n",
        "# Ordinal expression as a list\n",
        "\n",
        "words = [\"First\", \"Second\", \"Third\",\"Fourth\"]\n",
        "\n",
        "print(\"The ordinal expression:\", words[cardinal_number-1])"
      ],
      "metadata": {
        "cellView": "form",
        "id": "s3V87-xv2bJT",
        "outputId": "cd25c750-0f7a-4b99-891e-0d7e048ff693",
        "colab": {
          "base_uri": "https://localhost:8080/"
        }
      },
      "execution_count": 6,
      "outputs": [
        {
          "output_type": "stream",
          "name": "stdout",
          "text": [
            "The ordinal expression: Second\n"
          ]
        }
      ]
    },
    {
      "cell_type": "markdown",
      "source": [
        "##GTTS Question (😍 I've explained to you. See the code added below your code cell)"
      ],
      "metadata": {
        "id": "3bASGzuY-gl-"
      }
    },
    {
      "cell_type": "code",
      "source": [
        "# 😍 Do not run this code\n",
        "\n",
        "!pip install gTTS\n",
        "\n",
        "\n",
        "from gtts import gTTS\n",
        "\n",
        "\n",
        "te"
      ],
      "metadata": {
        "id": "T7lReIOX-svx"
      },
      "execution_count": null,
      "outputs": []
    },
    {
      "cell_type": "code",
      "source": [
        "# First, install the gTTS library if you haven't already\n",
        "!pip install gtts\n",
        "from gtts import gTTS\n",
        "\n",
        "# Import IPython display module\n",
        "from IPython.display import Audio, display"
      ],
      "metadata": {
        "id": "BC7Pn9GC2yKW",
        "outputId": "26dcd593-d455-45f8-8ab2-92960ff6b100",
        "colab": {
          "base_uri": "https://localhost:8080/"
        }
      },
      "execution_count": 12,
      "outputs": [
        {
          "output_type": "stream",
          "name": "stdout",
          "text": [
            "Requirement already satisfied: gtts in /usr/local/lib/python3.10/dist-packages (2.5.1)\n",
            "Requirement already satisfied: requests<3,>=2.27 in /usr/local/lib/python3.10/dist-packages (from gtts) (2.31.0)\n",
            "Requirement already satisfied: click<8.2,>=7.1 in /usr/local/lib/python3.10/dist-packages (from gtts) (8.1.7)\n",
            "Requirement already satisfied: charset-normalizer<4,>=2 in /usr/local/lib/python3.10/dist-packages (from requests<3,>=2.27->gtts) (3.3.2)\n",
            "Requirement already satisfied: idna<4,>=2.5 in /usr/local/lib/python3.10/dist-packages (from requests<3,>=2.27->gtts) (3.7)\n",
            "Requirement already satisfied: urllib3<3,>=1.21.1 in /usr/local/lib/python3.10/dist-packages (from requests<3,>=2.27->gtts) (2.0.7)\n",
            "Requirement already satisfied: certifi>=2017.4.17 in /usr/local/lib/python3.10/dist-packages (from requests<3,>=2.27->gtts) (2024.2.2)\n"
          ]
        }
      ]
    },
    {
      "cell_type": "code",
      "source": [
        "# Text to be converted to speech\n",
        "text = \"I have succeeded in this task.\"\n",
        "\n",
        "# Language in which you want to convert\n",
        "language = 'en'\n",
        "\n",
        "# Pass the text and language to the gTTS module\n",
        "speech = gTTS(text = text, lang = language, slow = False)\n",
        "\n",
        "# Save the converted audio file\n",
        "speech.save(\"output.mp3\")\n",
        "\n",
        "# Display the audio directly in the notebook\n",
        "display(Audio(\"output.mp3\", autoplay=True))"
      ],
      "metadata": {
        "id": "4EVCJzdF_N4E",
        "outputId": "22481c20-f5fe-4c0e-e4e1-88f8ae4f7728",
        "colab": {
          "base_uri": "https://localhost:8080/",
          "height": 74
        }
      },
      "execution_count": 13,
      "outputs": [
        {
          "output_type": "display_data",
          "data": {
            "text/plain": [
              "<IPython.lib.display.Audio object>"
            ],
            "text/html": [
              "\n",
              "                <audio  controls=\"controls\" autoplay=\"autoplay\">\n",
              "                    <source src=\"data:audio/mpeg;base64,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\" type=\"audio/mpeg\" />\n",
              "                    Your browser does not support the audio element.\n",
              "                </audio>\n",
              "              "
            ]
          },
          "metadata": {}
        }
      ]
    },
    {
      "cell_type": "code",
      "source": [
        "# Text to be converted to speech\n",
        "text = input()                    #😍 We don't need this now: \"I have succeeded in this task.\"\n",
        "\n",
        "# Language in which you want to convert\n",
        "language = 'en'\n",
        "\n",
        "# Pass the text and language to the gTTS module\n",
        "speech = gTTS(text = text, lang = language, slow = False)\n",
        "\n",
        "# Save the converted audio file\n",
        "speech.save(\"output.mp3\")\n",
        "\n",
        "# Display the audio directly in the notebook\n",
        "display(Audio(\"output.mp3\", autoplay=True))"
      ],
      "metadata": {
        "id": "lyEClYpR3PLh",
        "outputId": "7507921b-fe3f-4f9b-af86-256bf57b41d2",
        "colab": {
          "base_uri": "https://localhost:8080/",
          "height": 93
        }
      },
      "execution_count": 14,
      "outputs": [
        {
          "name": "stdout",
          "output_type": "stream",
          "text": [
            "Now you can generate any audio as you type.\n"
          ]
        },
        {
          "output_type": "display_data",
          "data": {
            "text/plain": [
              "<IPython.lib.display.Audio object>"
            ],
            "text/html": [
              "\n",
              "                <audio  controls=\"controls\" autoplay=\"autoplay\">\n",
              "                    <source src=\"data:audio/mpeg;base64,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\" type=\"audio/mpeg\" />\n",
              "                    Your browser does not support the audio element.\n",
              "                </audio>\n",
              "              "
            ]
          },
          "metadata": {}
        }
      ]
    },
    {
      "cell_type": "markdown",
      "source": [
        "###Dictionary Question (😍 Refer to my code below)"
      ],
      "metadata": {
        "id": "VNHTG5xIBYQa"
      }
    },
    {
      "cell_type": "code",
      "source": [
        "grades = {\"Mary\": 80, \"Tom\": 60, \"Bob\": 100}\n",
        "print(grades[\"Bob\"])"
      ],
      "metadata": {
        "id": "tgNTKnqt3gYh",
        "outputId": "48d90b15-a852-4a23-cff0-84274ce94b8f",
        "colab": {
          "base_uri": "https://localhost:8080/"
        }
      },
      "execution_count": 16,
      "outputs": [
        {
          "output_type": "stream",
          "name": "stdout",
          "text": [
            "100\n"
          ]
        }
      ]
    },
    {
      "cell_type": "markdown",
      "source": [
        "## Function Question"
      ],
      "metadata": {
        "id": "aN1j3qcYCUC7"
      }
    },
    {
      "cell_type": "markdown",
      "source": [
        "😍 There is a typo in your code:"
      ],
      "metadata": {
        "id": "Ya9wXg4J4Zgc"
      }
    },
    {
      "cell_type": "code",
      "source": [
        "\n",
        "def divide(x, y):\n",
        "    return x / y\n",
        "\n",
        "result = devide(20, 4)   #😍 Typo here 'devide' > 'divide\n",
        "print(\"The result of devide is:\", result)"
      ],
      "metadata": {
        "id": "kjZQ7puBCtct",
        "outputId": "5ad5ed8e-333b-4afb-ccac-8624eb527ea5",
        "colab": {
          "base_uri": "https://localhost:8080/"
        }
      },
      "execution_count": 21,
      "outputs": [
        {
          "output_type": "stream",
          "name": "stdout",
          "text": [
            "The result of devide is: 5.0\n"
          ]
        }
      ]
    },
    {
      "cell_type": "markdown",
      "source": [
        "😍 There is a typo in your code: 'devide' > 'divide"
      ],
      "metadata": {
        "id": "zaqLtVHt4dHb"
      }
    },
    {
      "cell_type": "code",
      "source": [
        "def divide(x, y):\n",
        "  return x / y\n",
        "\n",
        "result = devide(20, 4)\n",
        "print(\"The result of devide is:\", result)"
      ],
      "metadata": {
        "id": "ZxFpsCDU39UD",
        "outputId": "40c7f798-369d-481d-e7fa-76cae64b9274",
        "colab": {
          "base_uri": "https://localhost:8080/",
          "height": 202
        }
      },
      "execution_count": 23,
      "outputs": [
        {
          "output_type": "error",
          "ename": "NameError",
          "evalue": "name 'devide' is not defined",
          "traceback": [
            "\u001b[0;31m---------------------------------------------------------------------------\u001b[0m",
            "\u001b[0;31mNameError\u001b[0m                                 Traceback (most recent call last)",
            "\u001b[0;32m<ipython-input-23-c3798f9f2e79>\u001b[0m in \u001b[0;36m<cell line: 4>\u001b[0;34m()\u001b[0m\n\u001b[1;32m      2\u001b[0m   \u001b[0;32mreturn\u001b[0m \u001b[0mx\u001b[0m \u001b[0;34m/\u001b[0m \u001b[0my\u001b[0m\u001b[0;34m\u001b[0m\u001b[0;34m\u001b[0m\u001b[0m\n\u001b[1;32m      3\u001b[0m \u001b[0;34m\u001b[0m\u001b[0m\n\u001b[0;32m----> 4\u001b[0;31m \u001b[0mresult\u001b[0m \u001b[0;34m=\u001b[0m \u001b[0mdevide\u001b[0m\u001b[0;34m(\u001b[0m\u001b[0;36m20\u001b[0m\u001b[0;34m,\u001b[0m \u001b[0;36m4\u001b[0m\u001b[0;34m)\u001b[0m\u001b[0;34m\u001b[0m\u001b[0;34m\u001b[0m\u001b[0m\n\u001b[0m\u001b[1;32m      5\u001b[0m \u001b[0mprint\u001b[0m\u001b[0;34m(\u001b[0m\u001b[0;34m\"The result of devide is:\"\u001b[0m\u001b[0;34m,\u001b[0m \u001b[0mresult\u001b[0m\u001b[0;34m)\u001b[0m\u001b[0;34m\u001b[0m\u001b[0;34m\u001b[0m\u001b[0m\n",
            "\u001b[0;31mNameError\u001b[0m: name 'devide' is not defined"
          ]
        }
      ]
    },
    {
      "cell_type": "markdown",
      "source": [
        "😍 There is a typo in your code: 'devide' > 'divide"
      ],
      "metadata": {
        "id": "xvwv4BYk4mjB"
      }
    },
    {
      "cell_type": "code",
      "source": [
        "def divide(x, y):\n",
        "    return x / y\n",
        "    result = devide(x, y)\n",
        "print(\"The result of devide is:\", result)"
      ],
      "metadata": {
        "id": "DV6hdYTMDb7X",
        "outputId": "997aec10-b2e5-4eab-e894-7cba7bbb979f",
        "colab": {
          "base_uri": "https://localhost:8080/"
        }
      },
      "execution_count": 25,
      "outputs": [
        {
          "output_type": "stream",
          "name": "stdout",
          "text": [
            "The result of devide is: 5.0\n"
          ]
        }
      ]
    },
    {
      "cell_type": "code",
      "source": [
        "x = 20\n",
        "y = 4\n",
        "print(\"The result of devide is:\", result)"
      ],
      "metadata": {
        "id": "V5UWBJxADwPS",
        "outputId": "8fa838b3-dc7c-4e03-d685-7081756a35fe",
        "colab": {
          "base_uri": "https://localhost:8080/",
          "height": 182
        }
      },
      "execution_count": null,
      "outputs": [
        {
          "output_type": "error",
          "ename": "NameError",
          "evalue": "name 'result' is not defined",
          "traceback": [
            "\u001b[0;31m---------------------------------------------------------------------------\u001b[0m",
            "\u001b[0;31mNameError\u001b[0m                                 Traceback (most recent call last)",
            "\u001b[0;32m<ipython-input-16-b5eaea7f0f2c>\u001b[0m in \u001b[0;36m<cell line: 3>\u001b[0;34m()\u001b[0m\n\u001b[1;32m      1\u001b[0m \u001b[0mx\u001b[0m \u001b[0;34m=\u001b[0m \u001b[0;36m20\u001b[0m\u001b[0;34m\u001b[0m\u001b[0;34m\u001b[0m\u001b[0m\n\u001b[1;32m      2\u001b[0m \u001b[0my\u001b[0m \u001b[0;34m=\u001b[0m \u001b[0;36m4\u001b[0m\u001b[0;34m\u001b[0m\u001b[0;34m\u001b[0m\u001b[0m\n\u001b[0;32m----> 3\u001b[0;31m \u001b[0mprint\u001b[0m\u001b[0;34m(\u001b[0m\u001b[0;34m\"The result of devide is:\"\u001b[0m\u001b[0;34m,\u001b[0m \u001b[0mresult\u001b[0m\u001b[0;34m)\u001b[0m\u001b[0;34m\u001b[0m\u001b[0;34m\u001b[0m\u001b[0m\n\u001b[0m",
            "\u001b[0;31mNameError\u001b[0m: name 'result' is not defined"
          ]
        }
      ]
    },
    {
      "cell_type": "markdown",
      "source": [
        "---\n",
        "The end (😍 Let's keep learning :-))"
      ],
      "metadata": {
        "id": "i4R_e2co4s9r"
      }
    }
  ]
}